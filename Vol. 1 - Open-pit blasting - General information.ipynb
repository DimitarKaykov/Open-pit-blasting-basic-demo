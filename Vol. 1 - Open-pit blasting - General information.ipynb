{
 "cells": [
  {
   "cell_type": "code",
   "execution_count": 1,
   "id": "b8d35ff3",
   "metadata": {},
   "outputs": [],
   "source": [
    "%matplotlib inline"
   ]
  },
  {
   "cell_type": "code",
   "execution_count": 2,
   "id": "d561c933",
   "metadata": {},
   "outputs": [],
   "source": [
    "# Imported libraries\n",
    "import matplotlib.pyplot as plt\n",
    "import numpy as np\n",
    "import sys\n",
    "from math import pi, pow, tan, radians, sqrt, log, exp\n",
    "from mpl_toolkits.mplot3d import axes3d\n",
    "from matplotlib import cm"
   ]
  },
  {
   "cell_type": "markdown",
   "id": "a41869c7",
   "metadata": {},
   "source": [
    "# IMPROVED OPEN-PIT BENCH BLASTING DESIGN, BASED ON OPTIMIZATION AND MONTE CARLO SIMULATION\n",
    "# Vol. 1. General information\n",
    "\n",
    "## Introduction\n",
    "Mining is one of the most basic human activities, which date for as long as humans have learned to use tools. The future of mankind is dependent on a great number of minerals - sand and stone, iron, copper, gold, alluminum, clays, etc.\n",
    "\n",
    "<img src=\"https://me.smenet.org/docs/Publications/ME/Issue/MinBaby.jpg\"  width=\"60%\">\n",
    "\n",
    "This demand for materials such as copper, gold, aluminium, lithium is known to grow due to the expanding development new technologies and equipment, therefore, mining would still have a crucial role for mankind. These types of material are mostly found in medium to hard rock.\n",
    "\n",
    "Blasting is one of the most important operations in the mining business. All consecutive operations depend on blasting results, mostly on post-blast rock fragment size distribution.\n",
    "However, little to no public information is available on the actual relationships between the rock fragment distribution and the consecutive costs for loading, hauling, crushing and secondary crushing. In many cases, such information is strictly private and is a result from field data measurements, which are site-specific. Even the biggest mining operations that produce over 10 Mt of ore per year can acquire about 108 osbervations per year (2 blast per week). Moreover, different blasts can be done in different geological domains, which further reduces the number of observations per domain. In addition, to make things even more chellenging, not all mining operations keep records of the blasting results. Regardless of which case one has to deal with, a good starting point are the pre-established theoretical models, which are the so called rules of thumb for every mining operation.\n",
    "\n",
    "The initial iteration of the problem, before any data is available, to this day is often solved with a pen and paper. However, this is not due to lack of complexity of the problem, but rather due to lack of understanding by a number of blasting engineers. In many cases they do not always take into account the stochastic aspect of the problem and solely rely on formulae to provide a working solution, which in many cases is not optimal. To this day, different cost models have been proposed for estimation the best blast design parameters. However, as practical as they may be, they either neglect certain aspects of the problem, or assume unrealistic dependencies between different factors. Therefore, an improved model should be proposed in order to account for the geological uncertainty and other uncertain factors.\n",
    "\n",
    "\n",
    "## Aim and objectives\n",
    "The aim of this case study is to provide a better understanging of how costs can be optimized at the design stage, while implementing rules of thumb from the mining industry and fundamental mathematical concepts such as:\n",
    "* Calculus for determining the importance of different factors\n",
    "* A Grid search optimization technique for determing the best cost-effective design parameters solution under certain constraints\n",
    "* Alternative optimization methods: Search with an accelerated step size and Random search\n",
    "* Monte Carlo simulation of the rockmass' Uniaxial compressive strength\n",
    "* Hypothesis testing for comparing whether the proposed solution is an improvement over the conventional one"
   ]
  },
  {
   "cell_type": "markdown",
   "id": "44d21813",
   "metadata": {},
   "source": [
    "## An overview of open-pit blasting conditions\n",
    "The main groups of characteristics regarding blasting can be devided into two major groups: 1) natural factors and 2) artificial factors.\n",
    "\n",
    "Natural factors include **Rockmass characteristics**, while artifical factors include:\n",
    "* Blast panel and bench geometry\n",
    "* Utilized mining explosives\n",
    "* Choice of mining equipment\n",
    "* Blast design parameters and charging rules, etc.\n",
    "\n",
    "### Rockmass characteristics\n",
    "\n",
    "Rockmass characteristics can depend on three major groups of properties: \n",
    "1. physical properties - density, porosity, moisture, etc.\n",
    "2. mehcanical properties - strenght, hardness, elasticity, Poisson ratio, etc.\n",
    "3. in-situ characteristics of the rockmass - rockmass surface condition, structural conditions (number of joint sets, joint plane spacing, joint set orientation towards rock slope, joint compressive strength, joint roughness), etc.\n",
    "\n",
    "Usually preliminary information from geological exploration is available for all three groups. However, during the exploitation of the deposit, geological data is continued to be acquired in order to update the engineers's understanding of the rockmass and the spatial distribution of their properties. A cheap and relatively easy way to to complement geological data is by conducting in-situ tests, which provide an improved understanding on the actual conditions for each consecutive blast.\n",
    "\n",
    "Here you can see an overview of the rockmass which can be blasted as a regular taks for each bench in open-pit mines.\n",
    "\n",
    "<img src=\"https://tagasoft.com/wp-content/uploads/2016/11/RoundHill-1.jpg\"  width=\"80%\">\n",
    "\n",
    "The main estimator for the rockmass is the so calles Rock factor (A). It can be calculated via the following formula:\n",
    "\n",
    "\n",
    "where \n",
    "\n",
    "The main rockmass properties, which are used in the calculations for calculating different blast design features are shown in the following code block:"
   ]
  },
  {
   "cell_type": "code",
   "execution_count": 3,
   "id": "07516962",
   "metadata": {},
   "outputs": [],
   "source": [
    "# Rockmass properties / Свойства на скалния масив\n",
    "\n",
    "rm_density = 2.75         # Rockmass density (Плътност на скалата от масива), t/m³\n",
    "rm_rock_factor = 8.19     # Rock factor (Коефициент, отчитащ якостните свойства на скалата и състоянието на масива)\n",
    "rm_swell_factor = 1.4     # Swell factor (Коефициент на разбухване)"
   ]
  },
  {
   "cell_type": "markdown",
   "id": "db3503bf",
   "metadata": {},
   "source": [
    "As a sidenote - the rock swelling factor represent how much the volume from the rockmass can \"expand\" its volume when it is in a bulk and loose state. The volume expansion (swelling) is due to the presense of air among the irregular-shape rock fragments, which leads to them taking more space than the volume of the pre-blast rockmass. "
   ]
  },
  {
   "cell_type": "markdown",
   "id": "3f96cf0c",
   "metadata": {},
   "source": [
    "### Blast panel and bench geometry\n",
    "\n",
    "The stepwise shape of the pit is known as a bench. In order for rock to be extracted, different portions of the benches are consecutively blasted in a relatively simple shape, similar to a wedge. For big mining operations, e.g. operations dealing with copper mining, the preferred bench height is 15 m and depending on the hardness of the rockmass, usually slopes range between 60° and 75°. Gold mining operations usually deal with smaller benches with a height of 5 to 10 m.\n",
    "\n",
    "A general representation of how bench blasting is utilized int open-pit mining geometry can be seen on the lower left corner of following photo:\n",
    "\n",
    "<img src=\"https://actiondb.com.au/wp-content/uploads/2020/09/ADB-Testimonials-Isaac-Plains-1-1.jpg\"  width=\"50%\">\n",
    "\n",
    "The assumed parameters for this case study are as follows:"
   ]
  },
  {
   "cell_type": "code",
   "execution_count": 4,
   "id": "1365fa0e",
   "metadata": {},
   "outputs": [],
   "source": [
    "# Blast panel geometric features / Геометрични характеристики на взривяваното поле\n",
    "\n",
    "bp_height = 15            # Bench height (Височина на стъпалото), m\n",
    "bp_width = 30             # Blast panel width (Широчина на взривяваното поле), m\n",
    "bp_length = 100           # Blast panel length (Дължина на взривяваното поле), m\n",
    "bp_slope_angle = 65       # Bench slope angle (Ъгъл на откоса на стъпалото), m"
   ]
  },
  {
   "cell_type": "markdown",
   "id": "319c8026",
   "metadata": {},
   "source": [
    "The volume of the blast panel is calculated via the formula:\n",
    "\n"
   ]
  },
  {
   "cell_type": "markdown",
   "id": "d2c24758",
   "metadata": {},
   "source": [
    "### Mining explosives\n",
    "Medim-hard to hard rock are required to be initially fragmented by blasting. It is a quick and relatively cheap way of breking rock into smaller fragments, which are easy to load and transport. The most commonly used blasting agent in mining operations is ANFO (Ammonium Nitrate and Fuel Oil) and its energy nowadays is used for scaling the strength of other mining explosives. Here you can see how it looks like - small white prills loaded either pneumatically or by hand: \n",
    "\n",
    "<img src=\"https://media.licdn.com/dms/image/C5112AQEg2toS9H_IpA/article-inline_image-shrink_1000_1488/0/1576978166489?e=1690416000&v=beta&t=V7_BvGOhAMv5lwBPr1YzIs4iKuktqEOfJJT6n61x0lo\"  width=\"40%\">\n",
    "\n",
    "ANFO is evey quarry's main choice of explosive due to its low selling price. Due to the low value of sand and stone, given that no special environmental requirments are adopted for the quarrying operation, ANFO is usually the best choice from an economic standpoint (given that the fragmentation is satisfactory).\n",
    "\n",
    "\n",
    "However, there are two more common types of explosive used in the mining industry: watergel explosives and emulsion explosives. In many cases they produce better fragmentation results, due to the higher velocity of detonation and hence the higher detonation pressure they produce. \n",
    "Just for fun, during field work, blasting engineers call them with the slang term \"sausages\".For visual representaion, here is how watergel explosives generally look like.\n",
    "\n",
    "![Alt text](https://encrypted-tbn0.gstatic.com/images?q=tbn:ANd9GcR2fCS2VRl-TTslmfpWiDlWxAAqMBA-PnduJUJlSX_OlLaZIESphXa-C3MDXQ2pIoccrxI&usqp=CAU)\n",
    "\n",
    "Usually watergel explsives are stored in packages with diameters ranging from 30 up to 180 mm (depending on the brand), which makes them versatile for different conditions. Furthermore, the volume of gas products they produce (including toxic gases) is less, which can be favourable in terms of environmental impact and work safety. In general, the volume of gas products corresponds with the ability of the blast to \"throw\" the material. From an engineering perspective, a good blast is not judged by how cool it looks, but rather how subtle it is. Hence, watergel explosive may be a better choice when the scale of impact should be minimized, compared to ANFO.\n",
    "\n",
    "However, in many cases when dealing with higher benches and harder rock formations (e.g. iron or copper mining), a more powerful explosive is required. Here is a photo, where one can see how a drillhole is loeaded with an emuslion explosive.\n",
    "\n",
    "<img src=\"https://www.nelsonbrothers.com/assets/images/buckets/Loading-emulsion2.jpg\"  width=\"30%\">\n",
    "\n",
    "Therefore, fewer amount of these two explosives can produce better fragmentation results than ANFO. However, these two types may not always prefered due to their higher price (approximately over 2 times more expensive than ANFO). Hence, for shorter benches (up to 10 m), usually ANFO is prefered, generally speaking.\n",
    "\n",
    "As a rule of thumb, benches over 15 m use primarily emulsion explosives. This is due to the dicrease of the velocity of detonation (VOD) along the bench height when using lower energy explosives (such as ANFO or some watergel explosives), which results in poor fragmentation and worse uniformity of the material.\n",
    "\n",
    "The assumed explosive porperties and price for this case study can be seen bellow and were chosen for Emulsion explosive:"
   ]
  },
  {
   "cell_type": "code",
   "execution_count": 5,
   "id": "4657a13f",
   "metadata": {},
   "outputs": [],
   "source": [
    "# Explosive properties / Свойства на взривното вещество\n",
    "\n",
    "expl_density = 1.1       # Explosive density (Плътност на взривното вещество), g/dm³ (t/m³)\n",
    "expl_rws = 116            # Relative weight strength (Относителна тегловна енергия)\n",
    "expl_price = 1.51         # Explosive price (Цена на взривното вещество), EUR/kg"
   ]
  },
  {
   "cell_type": "markdown",
   "id": "055c3f6a",
   "metadata": {},
   "source": [
    "### Mining equipment and operational costs evaluation\n",
    "Mining operations rely to great extend on electricity and fuel. For this basic model of the mining operation, the energy source considered for all mining equipment is diesel fuel. The price assumed for this case study can be seen below:"
   ]
  },
  {
   "cell_type": "code",
   "execution_count": 6,
   "id": "de62a5df",
   "metadata": {},
   "outputs": [],
   "source": [
    "# Energy sources for mining operation / Източници на енергия използвана в минния обект\n",
    "\n",
    "energy_diesel_price = 1.6  # Diesel price (Цена на гориво - дизел), EUR/l"
   ]
  },
  {
   "cell_type": "markdown",
   "id": "408e08ba",
   "metadata": {},
   "source": [
    "In order to achieve rock fragmentation, blasting agents are loaded in pre-drilled holes. They are situated in rectangular or staggered pattern so that uniform fragmentation is achieved along the blast panel. \n",
    "\n",
    "\n",
    "\n",
    "However, in reality every drillhole is always placed in a position, deviating from its planned one. Therefore, this deviation can skew the uniformity of the rock fragments (more on that below). The main parameters used for this analysis are shown as follows:"
   ]
  },
  {
   "cell_type": "code",
   "execution_count": 7,
   "id": "3eec1fce",
   "metadata": {},
   "outputs": [],
   "source": [
    "# Blast panel drillhole features / Параметри на взривните сондажи\n",
    "\n",
    "bp_dh_diameter = 200      # Drillhole diameter (Диаметър на взривните сондажи), mm\n",
    "bp_dh_dev = 0.1         # Drillhole location deviation (Отклонение на устието на сондажите от проектното), m"
   ]
  },
  {
   "cell_type": "markdown",
   "id": "6e5c6d2f",
   "metadata": {},
   "source": [
    "Based on the drill's diameter, number of drillholes and hourly fuel consumptions, costs and drilling time can vary significantly. \n",
    "\n",
    "<img src=\"https://img.directindustry.com/images_di/photo-g/20626-18002129.jpg\"  width=\"40%\">\n",
    "\n",
    "The assumed values for the drilling equipment are listed below: "
   ]
  },
  {
   "cell_type": "code",
   "execution_count": 8,
   "id": "aee6acdd",
   "metadata": {},
   "outputs": [],
   "source": [
    "# Drilling equipment specs / Параметри на сондата\n",
    "\n",
    "drill_h_rate = 25                                   # Drilling rate (Скорост на пробиване), m/h\n",
    "drill_h_fuel = 62.31                                # Drilling fuel consumption per hour, (Разход на гориво при 1 h сондиране) l/h\n",
    "drill_h_costs = drill_h_fuel * energy_diesel_price  # Drilling costs (Разходи за пробиване), EUR/h"
   ]
  },
  {
   "cell_type": "markdown",
   "id": "85726ecd",
   "metadata": {},
   "source": [
    "Excavators are essential for every open-pit mining operation. Their main task is to shovel the blasted rock fragments into trucks. Excavators work in a cyclical manner and it takes about 4 to 6 shovels to fill in a truck.\n",
    "\n",
    "<img src=\"https://www.hard-line.com/wp-content/uploads/2021/04/IM-Mighty-Maple-Leaf-1.jpg\"  width=\"50%\">\n",
    "\n",
    "The most important features of a backhoe excavator used in this case study are listed below:"
   ]
  },
  {
   "cell_type": "code",
   "execution_count": 9,
   "id": "b987683a",
   "metadata": {},
   "outputs": [],
   "source": [
    "# Excavator equipment specs / Параметри на багера\n",
    "\n",
    "loader_bucket_vol = 27.5                                # Bucket volume (Геометричен обем на кофата на багера), m³\n",
    "loader_s_cycle = 30                                     # Excavator cycle time (Цикъл на работа на багера), s\n",
    "loader_h_fuel = 225.39                                  # Excavator fuel consumption per hour\n",
    "loader_h_costs = loader_h_fuel * energy_diesel_price    # Excavator costs (Разходи за работа на багера), EUR/h"
   ]
  },
  {
   "cell_type": "markdown",
   "id": "a2136f71",
   "metadata": {},
   "source": [
    "Trucks are also essential, just like excavators. They have proven over the years their capability of being reliable and flexible mining equipment. They tend to be better suited especially when dealing with complex mine designs for complex ore body geometriy. \n",
    "\n",
    "<img src=\"https://www.crown.co.za/images/Latest_news_2020/capital-equipment/XCMGs_700_t_excavator_proves_its_worth_in_coal_mining.jpg\"  width=\"50%\">\n",
    "\n",
    "Their main specifications can be seen below:"
   ]
  },
  {
   "cell_type": "code",
   "execution_count": 10,
   "id": "0c065ec5",
   "metadata": {},
   "outputs": [],
   "source": [
    "# Truck equipment specs / Параметри на автосамосвала\n",
    "\n",
    "truck_cap_vol = 130                                    # Truck capacity volume (Вместимост на коша на автосамосвала), m³\n",
    "truck_cap_t = 320                                      # Truck payload capacity (Товароносимост на автосамосвала), t\n",
    "\n",
    "truck_min_haul = 15                                    # Truck haul time (Време на курса на автосамосвала), min\n",
    "truck_h_fuel = 311.74                                  # Truck fuel consumption per hour\n",
    "truck_h_costs = truck_h_fuel * energy_diesel_price     # Truck haul costs (Разходи за транспорт), EUR/h"
   ]
  },
  {
   "cell_type": "markdown",
   "id": "f3e3c858",
   "metadata": {},
   "source": [
    "Crushers are essential for a mining operation, when speaking obout processing of the rock mass. The point of crushing is that the material should be prepared for grinding to a very small size (usually µm) which makes the separation and classification of the ore mineral grains from other inclusions. A general overview of a crusher can be seen on the follwoing photo:\n",
    "\n",
    "<img src=\"https://www.metso.com/contentassets/7958faee54a14c1c8bff59463f3fd376/lt330d-mobile-cone-crusher-w-person-img-4448.jpg?preset=showroom-large-thumb\"  width=\"50%\">\n",
    "\n",
    "Depending on the required feed size of the material, a certain ammount of rock fragmetns would remain impossible to crush and hence require additional breakage. Of course, this requires more time and costs and therefore oversized fragmetns should be minimized. A good rule of thumb is that the oversize should be no less than 5% of the fragments. In addition, the assumed feed size for the crusher is 1000 mm, as shown below:"
   ]
  },
  {
   "cell_type": "code",
   "execution_count": 11,
   "id": "003e2ea4",
   "metadata": {},
   "outputs": [],
   "source": [
    "crusher_feed = 1000                  # Crusher feeed, mm\n",
    "max_oversize_p = 5                   # Allowable oversize, %"
   ]
  },
  {
   "cell_type": "markdown",
   "id": "f9cdd081",
   "metadata": {},
   "source": [
    "### Blast design and charging rules\n",
    "\n",
    "Now that we covered all the basic assumtions and information on an open-pit mining operation, let's see how a blast design parameters are calculated. One of the essential design parameters in the Soviet and Western schools of thought is the *burden*. It can be interpreted as **the distance which the explosive energy must through from the rockmass to the free face in order for the rock to break into fragments of reasonable size**. The further the explosive from the free face, the more explosive energy is required and vise versa - the closer it is, less energy is reuqired. \n",
    "However, as simple as it may look and sound, during the last 70 years more than 30 different empirical formulas have been proposed by both schools of thought and all 30 work well in certain conditions!\n",
    "\n",
    "A good example is the following formula (Ozdemir and Kumral, 2018):\n",
    "\n",
    "$B = 0.03780 \\cdot D \\cdot (\\frac{\\rho_{e}}{\\rho_{r}})^{0.333}$ , m\n",
    "\n",
    "where $B$ is the burden of the blast, m; $D$ is the diameter of the drillhole, mm; $\\rho_{e}$ is the bulk density of explosive (t/m³) and $\\rho_{r}$ is the bulk density of the rockmass (t/m³)\n",
    "\n",
    "\n",
    "Here is a code block implementing the formula into a function:"
   ]
  },
  {
   "cell_type": "code",
   "execution_count": 12,
   "id": "e2a4521f",
   "metadata": {},
   "outputs": [
    {
     "name": "stdout",
     "output_type": "stream",
     "text": [
      "The formula yields a Burden of 5.57 m\n"
     ]
    }
   ],
   "source": [
    "# Burden / Линия на най-малко съпротивление (ЛНС)\n",
    "\n",
    "example_burden = 0.03780 * bp_dh_diameter * pow((expl_density/rm_density),(1/3))\n",
    "print(f\"The formula yields a Burden of {example_burden:.2f} m\")"
   ]
  },
  {
   "cell_type": "markdown",
   "id": "5484a10d",
   "metadata": {},
   "source": [
    "Usually, in most blast design project the burden is calculated via a single formula from a preferred mining engineering or blasting handbook. For example the spacing for a staggered and sqaure drillhole patterns can be calculated the following way:\n",
    "\n",
    "**For a square drillhole pattern:**\n",
    "\n",
    "$S = B$ , m\n",
    "\n",
    "\n",
    "**For a staggered pattern of drillholes, placed in the edges of a equilateral triangle (for best fragmentation):**\n",
    "\n",
    "$S = B \\cdot \\frac{\\sqrt{3}}{2}$ , m\n",
    "\n",
    "where $S$ is the assumed spacing between drillholes in a row for the blast panel, m"
   ]
  },
  {
   "cell_type": "code",
   "execution_count": 13,
   "id": "e2cbad3d",
   "metadata": {},
   "outputs": [
    {
     "name": "stdout",
     "output_type": "stream",
     "text": [
      "Square patterm spacing:  5.57 m, \n",
      "Staggered pattern spacing: 4.82 m\n"
     ]
    }
   ],
   "source": [
    "example_spacing_sq = example_burden\n",
    "example_spacing_staggered = example_burden * sqrt(3) / 2\n",
    "\n",
    "print(f\"Square patterm spacing:  {example_spacing_sq:.2f} m, \\n\\\n",
    "Staggered pattern spacing: {example_spacing_staggered:.2f} m\")"
   ]
  },
  {
   "cell_type": "markdown",
   "id": "3eab654e",
   "metadata": {},
   "source": [
    "For estimating the subdrilling and stemming, the following formulae can be used (Джобов и Копрев, 2014):\n",
    "\n",
    "$SD = (0.1 \\div 0.3) \\cdot B$ , m\n",
    "\n",
    "$ST = (0.5 \\div 1.0) \\cdot B$ , m \n",
    "\n",
    "where $SD$ is the subdrilling length, m; and $ST$ is the stemming length, m"
   ]
  },
  {
   "cell_type": "code",
   "execution_count": 14,
   "id": "e319a607",
   "metadata": {},
   "outputs": [
    {
     "name": "stdout",
     "output_type": "stream",
     "text": [
      "Subdrilling:  1.67 m, \n",
      "Stemming: 5.57 m\n"
     ]
    }
   ],
   "source": [
    "example_subdrilling = 0.3 * example_burden\n",
    "example_stemming = 1.0 * example_burden\n",
    "\n",
    "print(f\"Subdrilling:  {example_subdrilling:.2f} m, \\n\\\n",
    "Stemming: {example_stemming:.2f} m\")"
   ]
  },
  {
   "cell_type": "markdown",
   "id": "01f2d0bb",
   "metadata": {},
   "source": [
    "However, all these formulae are empirical and a good engineer can conclude that even the best formula may not work well in all cases. Furthermore, all other blast design parameters derive from the calculated value via empirical coefficients. However, this  phenomenon is taken into account, as these formulae allow the engineer to choose coefficients in a certain range.\n",
    "\n",
    "Although, this gives engineers flexibility, in most cases the assumed burden vlaue is the main reason for undesirable results in terms of fragmentation. Nowadays, this approach may seem outdated, although the majority of mining engineers still rely to this on the pen and paper approach and their practical experience. Nonetheless, O-Pitblast (one of the most prominent blasting software companies) have implemented a solver in their program for estimating the optimal design parameters, which achieve the best economic value, depending on user-input constraints. Now that's more like it! \n",
    "\n",
    "If you are interested in checking it out, you can follow [this link](https://www.youtube.com/watch?v=rjAMi_TLmIc&ab_channel=O-Pitblast) for a short video and [this link](https://downloads.o-pitblast.com/files/manual/O-Pitblast%20Manual%202021.pdf) to their software manual.\n",
    "\n",
    "The model itself is basic, but is very helpful for practical work. So let's see what we can do about improving its functionalities. \n",
    "\n",
    "First, let's see how the remaining parameters for each drillhole are calculated, i.e. the charging rules (Джобов и Копрев, 2014):\n",
    "\n",
    "**Drillhole length, m:**\n",
    "\n",
    "$DH_{length} = H + SD$\n",
    "\n",
    "where $H$ is the bench height, m; "
   ]
  },
  {
   "cell_type": "markdown",
   "id": "058573c0",
   "metadata": {},
   "source": [
    "**Drillhole charge length, m:**\n",
    "    \n",
    "$DH_{\\text{charge length}} = DH_{length} - ST$"
   ]
  },
  {
   "cell_type": "markdown",
   "id": "91750c20",
   "metadata": {},
   "source": [
    "**Drillhole charge mass:**\n",
    "\n",
    "$DH_{\\text{charge mass}} = DH_{\\text{charge length}} \\cdot \\rho_{e} \\cdot \\frac{\\pi}{4} \\cdot \\frac{D^{2}}{1000}$"
   ]
  },
  {
   "cell_type": "markdown",
   "id": "14d14cc9",
   "metadata": {},
   "source": [
    "**Drillhole specific charge:**\n",
    "\n",
    "$DH_{\\text{spec. charge}} = \\frac{DH_{\\text{charge mass}}}{B \\cdot S \\cdot H}$"
   ]
  },
  {
   "cell_type": "markdown",
   "id": "3f592722",
   "metadata": {},
   "source": [
    "All of the formulae from above are implemented in the following code block:"
   ]
  },
  {
   "cell_type": "code",
   "execution_count": 15,
   "id": "222b7fac",
   "metadata": {},
   "outputs": [],
   "source": [
    "def calc_bp_dh_charge(bp_burden, bp_spacing, bp_height,\n",
    "                      bp_dh_subdrilling, bp_dh_stemming, bp_dh_diameter,\n",
    "                      expl_density):\n",
    "    ''' Calculates drillhole and charge parameters - drillhole length, charge length, explosive mass, specific charge\n",
    "    Изчислява конструкцията на заряда за взривен сондаж - дължина на сондажа, дължина на зярада, количество ВВ,\n",
    "    и относ. разход на ВВ '''\n",
    "\n",
    "    bp_dh_length = bp_dh_subdrilling + bp_height\n",
    "    bp_dh_exp_length = bp_dh_length - bp_dh_stemming\n",
    "    bp_dh_exp_mass = expl_density * bp_dh_exp_length * (bp_dh_diameter ** 2) * pi / 4 / 1000\n",
    "    bp_dh_spec_charge = bp_dh_exp_mass / (bp_burden * bp_spacing * bp_height)\n",
    "    bp_dh_charge_dict = {\"DH length, m\": bp_dh_length, \"DH charge length, m\": bp_dh_exp_length,\n",
    "                         \"DH charge mass, kg\": bp_dh_exp_mass, \"DH spec. charge, kg/m³\": bp_dh_spec_charge}\n",
    "\n",
    "    return bp_dh_charge_dict"
   ]
  },
  {
   "cell_type": "markdown",
   "id": "9056a817",
   "metadata": {},
   "source": [
    "As we have already established some blast design pattern parameters, here is an exaplme of the results from calculating the chargin rules."
   ]
  },
  {
   "cell_type": "code",
   "execution_count": 16,
   "id": "1ab4fe7b",
   "metadata": {},
   "outputs": [
    {
     "name": "stdout",
     "output_type": "stream",
     "text": [
      "DH length, m: 16.67\n",
      "DH charge length, m: 11.10\n",
      "DH charge mass, kg: 383.62\n",
      "DH spec. charge, kg/m³: 0.82\n"
     ]
    }
   ],
   "source": [
    "example_dh_charge = calc_bp_dh_charge(example_burden, example_spacing_sq, bp_height, \n",
    "                                      example_subdrilling, example_stemming, bp_dh_diameter, expl_density)\n",
    "\n",
    "for k, v in example_dh_charge.items():\n",
    "    print(f\"{k}: {v:.2f}\")"
   ]
  },
  {
   "cell_type": "markdown",
   "id": "3bafb5d6",
   "metadata": {},
   "source": [
    "Next, let's see how the overall parameters for the blast panel are calculated (Джобов и Копрев, 2014).\n",
    "\n",
    "**Drillhole rows:**\n",
    "\n",
    "$DH_{rows} = \\frac{BP_{width} - 3 - \\bigl[(BP_{width} - 3)\\mod B\\bigr]}{B}$"
   ]
  },
  {
   "cell_type": "markdown",
   "id": "23237c4b",
   "metadata": {},
   "source": [
    "**Drillholes per row:**\n",
    "\n",
    "$DH_{\\text{holes per row}} = \\frac{BP_{length} - \\bigl(BP_{length}\\mod S\\bigr)}{S}$"
   ]
  },
  {
   "cell_type": "markdown",
   "id": "eecab6fe",
   "metadata": {},
   "source": [
    "**Total drillholes length, m:**\n",
    "\n",
    "$BP_{\\text{total d.h. length}} = BP_{\\text{d.h. count}} \\cdot DH_{length}$"
   ]
  },
  {
   "cell_type": "markdown",
   "id": "f7dca0dc",
   "metadata": {},
   "source": [
    "**Blast panel volume, m³:**\n",
    "\n",
    "$BP_{vol} = H \\cdot (BP_{width} \\cdot BP_{length} \\cdot \\frac{1}{\\tan{\\alpha}})$"
   ]
  },
  {
   "cell_type": "markdown",
   "id": "9b3c09cf",
   "metadata": {},
   "source": [
    "**Total explosive mass, kg:**\n",
    "\n",
    "$BP_{\\text{total expl. mass}} = BP_{\\text{charge mass}} \\cdot BP_{\\text{d.h. count}}$\n",
    "\n",
    "where $BP_{\\text{d.h. count}}$ is the total number of drillholes for the blast panel"
   ]
  },
  {
   "cell_type": "markdown",
   "id": "68920631",
   "metadata": {},
   "source": [
    "**Blast panel Powder factor, kg/m³:**\n",
    "\n",
    "$BP_{\\text{powder factor}} = \\frac{BP_{\\text{total expl. mass}}}{BP_{vol}}$"
   ]
  },
  {
   "cell_type": "code",
   "execution_count": 17,
   "id": "acf2cbd6",
   "metadata": {},
   "outputs": [],
   "source": [
    "def calc_bp_total(bp_height, bp_width, bp_length, bp_slope_angle,\n",
    "                  bp_burden, bp_spacing, bp_dh_length, bp_dh_exp_mass):\n",
    "    ''' Calculates overall blast panel charging parameters - rows, drillholes per row, total drillhole count,\n",
    "    total drillhole length, total rock volume and total explsoive mass\n",
    "    Изчислява общите параметри за взривяваното поле - брой редове, брой сондажи в ред, брой сондажи,\n",
    "    общ обем пробивни работи, обем взривявана скална маса и общо количество ВВ '''\n",
    "\n",
    "    bp_dh_rows_cnt = (bp_width - 3) // bp_burden + 1\n",
    "    bp_dh_per_row_cnt = bp_length // bp_spacing + 1\n",
    "    bp_total_dh_cnt = bp_dh_rows_cnt * bp_dh_per_row_cnt\n",
    "    bp_total_dh_length = bp_total_dh_cnt * bp_dh_length\n",
    "    bp_total_volume = bp_height * (bp_width * bp_length + 1 / tan(radians(bp_slope_angle)))\n",
    "    bp_total_exp_mass = bp_dh_exp_mass * bp_total_dh_cnt\n",
    "    bp_total_pf = bp_total_exp_mass / bp_total_volume\n",
    "    bp_total_dict = {\"Rows\": bp_dh_rows_cnt, \"DHs per row\": bp_dh_per_row_cnt,\n",
    "                     \"Total DH count\": bp_total_dh_cnt, \"Total DH length, m\": bp_total_dh_length,\n",
    "                     \"Total rock volume, m³\": bp_total_volume, \"Total explosive mass, kg\": bp_total_exp_mass,\n",
    "                     \"Overall powder factor, kg/m³\": bp_total_pf}\n",
    "\n",
    "    return bp_total_dict"
   ]
  },
  {
   "cell_type": "markdown",
   "id": "2cbdf608",
   "metadata": {},
   "source": [
    "Once more, another example can be seen below, by implementing the pre-established parameters."
   ]
  },
  {
   "cell_type": "code",
   "execution_count": 18,
   "id": "37671535",
   "metadata": {},
   "outputs": [
    {
     "name": "stdout",
     "output_type": "stream",
     "text": [
      "Rows: 5.00\n",
      "DHs per row: 18.00\n",
      "Total DH count: 90.00\n",
      "Total DH length, m: 999.07\n",
      "Total rock volume, m³: 45006.99\n",
      "Total explosive mass, kg: 34525.52\n",
      "Overall powder factor, kg/m³: 0.77\n"
     ]
    }
   ],
   "source": [
    "example_bp_total = calc_bp_total(bp_height, bp_width, bp_length, bp_slope_angle, \n",
    "                                 example_burden, example_spacing_sq, \n",
    "                                 example_dh_charge[\"DH charge length, m\"], example_dh_charge[\"DH charge mass, kg\"])\n",
    "\n",
    "for k, v in example_bp_total.items():\n",
    "    print(f\"{k}: {v:.2f}\")"
   ]
  },
  {
   "cell_type": "markdown",
   "id": "1ecf97ab",
   "metadata": {},
   "source": [
    "## Basics of rock fragmentation theory\n",
    "Now that we know how the panel is drilled and how different drillholes are charged, it is time to talk about the expected fragmentation result. \n",
    "\n",
    "This is a very complex process which cannot be observed with a very high accuracy for each drilhole due to the lack of full understanding of the rocks properties and distribution in the rockmass and the high price of conducting exhaustive fields tests with different monitoring eqipment. Therefore, for practical reasons empirical formulas are primarily used, which provide a good estimation on what fragmentation results should be expected. \n",
    "\n",
    "\n",
    "Two of the major parameters, determing the quality of fragmentation are the Mean rock fragment size (X50) and the Uniformity index. They are relativley similar to the scale and shape factors of the Weibull distribution and we will see later why that applies to this case.\n",
    "\n",
    "One easy way to estimate the expected Mean rock fragment size is via Kuznetsov's empirical formula. It was modifed by C. V. B. Cunningham and to this day it still works well and is used for blast design validation, when no other more complex regression or machine learning models are established for the mining operation. The formula for determining the expected mean fragment size (X50) is as follows (Gheibe et al., 2009):\n",
    "\n",
    "$X_{50} = A \\cdot K^{-0.8} \\cdot Q_{e}^{1/6} \\cdot \\left(\\frac{115}{S_{ANFO}}\\right)^{19/30}$, cm\n",
    "\n",
    "where $X_{50}$ is the mean (actually median, but people refer to it that way for some obscure reason) fragment size, mm;\n",
    "\n",
    "$A$ is the rock factor\n",
    "\n",
    "$K$ is the specific charge for the drillhole charging rule, kg/m³ (we assumed it to be labeled as $DH_{\\text{spec. charge}}$);\n",
    "\n",
    "$Q_{e}$ is the mass of the explosive used in a drillhole (charge mass), kg (we assumed it to be labeled as $DH_{\\text{charge mass}}$);\n",
    "\n",
    "$S_{ANFO}$ is relative weight strength for the explosive, scaled by ANFO (for ANFO the parameter assumes $S_{ANFO} = 100$)\n",
    "\n",
    "Here is how it looks in a Pythonic way."
   ]
  },
  {
   "cell_type": "code",
   "execution_count": 19,
   "id": "594dcaea",
   "metadata": {},
   "outputs": [],
   "source": [
    "def calc_x50(bp_dh_exp_mass, bp_dh_spec_charge, rm_rock_factor, expl_rws):\n",
    "    # Calculates and returns the value of the Median rock fragment size (X50) based on the original formula by Cunningham\n",
    "    # Изчислява и връща стойността на средния размер скален къс (X50) на базата на първоначалната формула на Cunningham\n",
    "    \n",
    "    x50 = rm_rock_factor * \\\n",
    "    pow(bp_dh_spec_charge, -0.8) * \\\n",
    "    pow(bp_dh_exp_mass, (1/6)) * \\\n",
    "    pow((115/expl_rws), (19/30))\n",
    "    \n",
    "    return x50 * 10"
   ]
  },
  {
   "cell_type": "markdown",
   "id": "530d4a3f",
   "metadata": {},
   "source": [
    "Let's see how what results can be acquired from our established charging rules:  "
   ]
  },
  {
   "cell_type": "code",
   "execution_count": 20,
   "id": "7060468c",
   "metadata": {},
   "outputs": [
    {
     "name": "stdout",
     "output_type": "stream",
     "text": [
      "Expected mean fragment size (X50): 256 mm\n"
     ]
    }
   ],
   "source": [
    "example_x50 = calc_x50(example_dh_charge[\"DH charge mass, kg\"], example_dh_charge[\"DH spec. charge, kg/m³\"], rm_rock_factor, expl_rws)\n",
    "\n",
    "print (f\"Expected mean fragment size (X50): {example_x50:.0f} mm\")"
   ]
  },
  {
   "cell_type": "markdown",
   "id": "c5625de2",
   "metadata": {},
   "source": [
    "This is an acceptable value, however, the solution is far from being optimal.\n",
    "\n",
    "For theretical and practical reasons, statistical distributions tend to be very helpful when dealing with particles with different sizes. The distribution of rock fragments after breakage is established to follow a Weibull distribution (a Rosin-Rammler distribution to be more precise). For almost a century, it has been extensively used to describe the distribution of particles with different sizes in mineral processing and from the 1980s for blast fragmentation results, as well. The reason why distributions are very useful when dealing with particles is because the Cumulative density function (CDF) of the rock fragments' size is actually the curve from Sieve anaysis of the material.\n",
    "So, how is the rock fragment size distribution is applicable for bigger rock fragments? The primary reason is because rock fragments larger that the crusher's feed are regarded as oversize and blasting engineers must be aware of that. Whenever oversize fragments appear, they require either secondary blasting or mechanical breakage by hydraulic hammers. Here is a good example how big can oversize \"fragments\" be:\n",
    "\n",
    "<img src=\"https://www.miningreview.com/wp-content/uploads/2016/06/Poor-fragmentation-results-as-a-result-of-poor-blast-preparation..jpg\"  width=\"60%\">\n",
    "\n",
    "In case, one can see that they are the size of boulders.\n",
    "\n",
    "Theorectical models in terms of determining the rock fragmentation distribtuion were also proposed, which additionally take into account fine material. Their accuracy is arguably better than the Rosin-Rammler distribution model, however, they are not always implemented in all blast design softwares. \n",
    "\n",
    "The Rosin-Rammler distribution relies on the so called Uniformity index, which quantifies how uniform the post-blast fragments are in terms of their size. This can be illustrated from the picture below:\n",
    "\n",
    "![Alt image](n3.jpg)\n",
    "![Alt image](n2.jpg)\n",
    "![Alt image](n1.5.jpg)\n",
    "![Alt image](n1.25.jpg)\n",
    "![Alt image](n1.jpg)\n",
    "![Alt image](n0.75.jpg)\n",
    "![Alt image](n0.5.jpg)"
   ]
  },
  {
   "cell_type": "markdown",
   "id": "44078671",
   "metadata": {},
   "source": [
    "In terms of open-pit blasting, the Uniformity index ($n$) is dependent on the charging rules, as it can be seen below, following Cunningham's model (Gheibe et al., 2009):\n",
    "\n",
    "$n = \\left(2.2 - 14\\frac{B}{D}\\right)\\left(\\frac{1}{2} + \\frac{S}{2B}\\right)^{0.5}\\left(1 - \\frac{W}{B}\\right)\\left(\\frac{L}{H}\\right)$\n",
    "\n",
    "where $D$ is the drillhole diameter, mm;\n",
    "\n",
    "$W$ is the standard deviation of the drilling accuracy, m\n",
    "\n",
    "$L$ is the charge length for the drillhole, m;\n",
    "\n",
    "And again, this is the Pythonic way to do it:"
   ]
  },
  {
   "cell_type": "code",
   "execution_count": 21,
   "id": "c58befab",
   "metadata": {},
   "outputs": [],
   "source": [
    "def calc_uniformity_idx(bp_burden, bp_spacing, bp_dh_diameter, bp_dh_exp_length, bp_dh_dev, bp_height, bp_dh_pattern):\n",
    "    # Calculates and returns the value of the Uniformity index value based on original formula, proposed by Cunningham\n",
    "    # Изчислява и връща стойността индекса на еднородост по първоначалната формула на Cunningham\n",
    "    \n",
    "    p = 1 # Pattern type coefficient (Коефициент, отчитащ вида на мрежата)\n",
    "    if bp_dh_pattern == \"staggered\":\n",
    "        p = 1.1\n",
    "    elif bp_dh_pattern == \"regular\":\n",
    "        p = 1\n",
    "        \n",
    "    n = (2.2 - 14 * bp_burden / bp_dh_diameter) * \\\n",
    "        sqrt(0.5 + 0.5 * bp_spacing / bp_burden) * \\\n",
    "        (1 - bp_dh_dev / bp_burden) * \\\n",
    "        (bp_dh_exp_length / bp_height) * p\n",
    "    \n",
    "    return n"
   ]
  },
  {
   "cell_type": "markdown",
   "id": "05f77881",
   "metadata": {},
   "source": [
    "Here is an example of what value does the Uniformity index take, based on the old formula by Cunningham:"
   ]
  },
  {
   "cell_type": "code",
   "execution_count": 22,
   "id": "43dccf48",
   "metadata": {},
   "outputs": [
    {
     "name": "stdout",
     "output_type": "stream",
     "text": [
      "Uniformity index (n): 1.98\n"
     ]
    }
   ],
   "source": [
    "example_uniformity_idx = calc_uniformity_idx(example_burden, example_spacing_sq, bp_dh_diameter, \n",
    "                                                 example_dh_charge[\"DH length, m\"], bp_dh_dev, bp_height, \"regular\")\n",
    "\n",
    "print(f\"Uniformity index (n): {example_uniformity_idx:.2f}\")"
   ]
  },
  {
   "cell_type": "markdown",
   "id": "73666981",
   "metadata": {},
   "source": [
    "Thus, when the X50 and Uniformity index values are calculated, they are feeded into the CDF formula for the Rossin-Rammler distribution. The result yeilds the fraction of the material passing a sieve openining with a size of $X$ mm. The formula is as follows (Gheibe et al., 2009):\n",
    "\n",
    "$R_{m} = 1 - e^{-(X/X_{c})^{n}}$\n",
    "\n",
    "where $X_{c}$ is the characteristic size of the distribution (mm) and it is calculated by the follwoing equation (Gheibe et al., 2009):\n",
    "\n",
    "$X_{c} = \\frac{X_{50}}{\\sqrt[n]{0.693}}$\n",
    "\n",
    "The following function returns the cumulative probability value for a rock fragment of size *x*."
   ]
  },
  {
   "cell_type": "code",
   "execution_count": 23,
   "id": "7e806748",
   "metadata": {},
   "outputs": [],
   "source": [
    "def kuz_ram_model(n, x50, x):\n",
    "    # Returns the percent passing value for a rock fragment size, based on the Rosin-Rammler distribution\n",
    "    # Връща стойността на процента преминал материал при даден размер скален къс на базата на разпределението на Rosin-Rammler\n",
    "    \n",
    "    x_c = x50/pow(0.693, 1/n)\n",
    "    p = 1 - 1/exp(pow((x/x_c), n))\n",
    "    \n",
    "    return 100*p"
   ]
  },
  {
   "cell_type": "code",
   "execution_count": 24,
   "id": "ce28e3f7",
   "metadata": {},
   "outputs": [],
   "source": [
    "kuz_ram_model_vectorized = np.vectorize(kuz_ram_model)"
   ]
  },
  {
   "cell_type": "markdown",
   "id": "814d2eaf",
   "metadata": {},
   "source": [
    "Now that we have everything, we should define a function which can plot the distribution of rock fragments of different particle sizes, so that we get a visual representation of how well is the blast design planned."
   ]
  },
  {
   "cell_type": "code",
   "execution_count": 25,
   "id": "37b7ab41",
   "metadata": {},
   "outputs": [],
   "source": [
    "def plot_kuz_ram_result(crusher_feed, x50, uniformity_idx, f_colour = \"tab:blue\", f_label = \"Old uniformity model\"):\n",
    "    ''' Plots the CDF of the rock fragments for the Kuz-Ram model \n",
    "    Чертае кумулативната плътност на разпределението на скалните късове по модела Kuz-Ram '''\n",
    "\n",
    "    x = np.arange(0, crusher_feed + 1000, 10)\n",
    "\n",
    "    kuz_ram_model_vectorized = np.vectorize(kuz_ram_model)\n",
    "    y = kuz_ram_model_vectorized(uniformity_idx, x50, x)\n",
    "\n",
    "    plt.scatter(crusher_feed, kuz_ram_model(uniformity_idx, x50, crusher_feed), c = f_colour)\n",
    "    x_const = np.linspace(0, crusher_feed + 1, 1000)\n",
    "    y_const = np.linspace(0, kuz_ram_model(uniformity_idx, x50, crusher_feed), 1000)\n",
    "    \n",
    "    plt.axvline(crusher_feed, color = 'black', linestyle = 'dashed', linewidth = 2)\n",
    "    plt.plot(x_const, [kuz_ram_model(uniformity_idx, x50, crusher_feed)] * 1000, color='black', linestyle=\"--\")\n",
    "    \n",
    "    plt.plot(x, y, label = f_label)\n",
    "    plt.xlabel(\"Rock fragment size, mm\")\n",
    "    plt.ylabel(\"Passing, %\")\n",
    "\n",
    "    plt.xlim(0, crusher_feed + 1000)\n",
    "    plt.ylim(0, 101)"
   ]
  },
  {
   "cell_type": "markdown",
   "id": "adf7bfd0",
   "metadata": {},
   "source": [
    "Here one can see how the expexted CDF looks like for this example considering the assumed blast design parameters and chargin rules. The horizontal and vertical punctured lines indicate the point from the curve whicх refers to the oversize probability (rock fragments with a size over 1000 mm)."
   ]
  },
  {
   "cell_type": "code",
   "execution_count": 26,
   "id": "851c83a3",
   "metadata": {},
   "outputs": [
    {
     "data": {
      "image/png": "[encoded data removed]",
      "text/plain": [
       "<Figure size 640x480 with 1 Axes>"
      ]
     },
     "metadata": {},
     "output_type": "display_data"
    },
    {
     "name": "stdout",
     "output_type": "stream",
     "text": [
      "Expected oversize percentage: 0.00%\n"
     ]
    }
   ],
   "source": [
    "plot_kuz_ram_result(crusher_feed, example_x50, example_uniformity_idx)\n",
    "plt.show()\n",
    "example_oversize = 100 - kuz_ram_model(example_uniformity_idx, example_x50, crusher_feed)\n",
    "print(f\"Expected oversize percentage: {example_oversize:.2f}%\")"
   ]
  },
  {
   "cell_type": "markdown",
   "id": "680020a3",
   "metadata": {},
   "source": [
    "This example gives a good feel of how empirical formulas can provide good results, but we still do not have proof whether this is the most cost efficient design. In order to reach to an optimal solution, we should point out some concerns, related to the Kuz-Ram model."
   ]
  },
  {
   "cell_type": "markdown",
   "id": "4c1a12ec",
   "metadata": {},
   "source": [
    "### Concerns regarding the Kuz-Ram model\n",
    "In many cases the original Kuz-Ram model and other alternative fragmentation models do not a superb prediction accuracy. In cases when working with softer rock formations, as well as in heterogenous rock formations (which are the majority types of conditions), the model gives a bias result for a certain rock type. However, in order to make the model more flexible, Cunningham proposed the use of two empirical coefficient for correcting both formula-based values of the Mean rock fragment size (X50) and the Uniformity index (n).\n",
    "The new proposed formula is as follows (Cunningham, 2005):\n",
    "\n",
    "$n = n_{s}\\sqrt{2 - \\frac{30B}{d}} \\sqrt{\\frac{1 + S/B}{2}} \\left(1 - \\frac{W}{B}\\right)\\left(\\frac{L}{H}\\right)^{0.3}C(n)$\n",
    "\n",
    "where $C(n)$ is a correction factor which allows to enable the estiamtion of changes of the results depending on the in-situ conditions\n",
    "\n",
    "Here is a block of code which implements it as a Python function:"
   ]
  },
  {
   "cell_type": "code",
   "execution_count": 27,
   "id": "c33e0966",
   "metadata": {},
   "outputs": [],
   "source": [
    "def calc_uniformity_idx_mod(bp_burden, bp_spacing, \n",
    "                            bp_dh_diameter, bp_dh_exp_length, bp_dh_dev, \n",
    "                            bp_height, rm_rock_factor, c_n = 1):\n",
    "    '''Calculates and returns the value of the Uniformity index value based on updated formula, proposed by Cunningham\n",
    "    Изчислява и връща стойността индекс на еднородост по обновената формула на Cunningham'''\n",
    "    \n",
    "    n = sqrt(2 - 30 * bp_burden / bp_dh_diameter) * \\\n",
    "        sqrt(0.5 + 0.5 * bp_spacing / bp_burden) * \\\n",
    "        (1 - bp_dh_dev / bp_burden) * \\\n",
    "        pow((bp_dh_exp_length / bp_height), 0.3) * c_n\n",
    "    \n",
    "    return n"
   ]
  },
  {
   "cell_type": "markdown",
   "id": "e8adf260",
   "metadata": {},
   "source": [
    "Nowe, that we have a different mode, let's view an example of what to expect when working with the modified formula without assuming any corrections for the value of *n*."
   ]
  },
  {
   "cell_type": "code",
   "execution_count": 28,
   "id": "ffdf601c",
   "metadata": {},
   "outputs": [
    {
     "name": "stdout",
     "output_type": "stream",
     "text": [
      "Uncorrected value for the Uniformity index (n): 0.97\n"
     ]
    }
   ],
   "source": [
    "example_uniformity_idx_mod = calc_uniformity_idx_mod(example_burden, example_spacing_sq, \n",
    "                                                     bp_dh_diameter, example_dh_charge[\"DH charge length, m\"], bp_dh_dev, \n",
    "                                                     bp_height, rm_rock_factor)\n",
    "\n",
    "print(f\"Uncorrected value for the Uniformity index (n): {example_uniformity_idx_mod:.2f}\")"
   ]
  },
  {
   "cell_type": "markdown",
   "id": "30084537",
   "metadata": {},
   "source": [
    "OK, this is what we initially expected - there is a big difference between both results. Let's check how both curves, related to both formulae differ from each other."
   ]
  },
  {
   "cell_type": "code",
   "execution_count": 29,
   "id": "e753f4b1",
   "metadata": {},
   "outputs": [
    {
     "data": {
      "image/png": "[encoded data removed]",
      "text/plain": [
       "<Figure size 640x480 with 1 Axes>"
      ]
     },
     "metadata": {},
     "output_type": "display_data"
    },
    {
     "name": "stdout",
     "output_type": "stream",
     "text": [
      "Expected oversize percentage, based on old model: 0.00%\n",
      "Expected oversize percentage, based on new model: 7.50%\n"
     ]
    }
   ],
   "source": [
    "plot_kuz_ram_result(crusher_feed, example_x50, example_uniformity_idx, \"tab:blue\", \"Old uniformity model\")\n",
    "plot_kuz_ram_result(crusher_feed, example_x50, example_uniformity_idx_mod, \"Orange\", \"New uniformity model\")\n",
    "plt.legend()\n",
    "plt.show()\n",
    "\n",
    "old_oversize = 100 - kuz_ram_model(example_uniformity_idx, example_x50, crusher_feed)\n",
    "modified_oversize = 100 - kuz_ram_model(example_uniformity_idx_mod, example_x50, crusher_feed)\n",
    "print(f\"Expected oversize percentage, based on old model: {old_oversize:.2f}%\")\n",
    "print(f\"Expected oversize percentage, based on new model: {modified_oversize:.2f}%\")"
   ]
  },
  {
   "cell_type": "markdown",
   "id": "3f220f90",
   "metadata": {},
   "source": [
    "The difference between both results is evident. And therefore, the use of empirical coefficients for correction is absolutely necessary. However, in a stage where no prior data of fragmentation results is available, both models are a gues of the actual result. Hence, given enough trails (blasting activities) in the same geological and structural domain, one can estimate both coefficients for sectors of the pit (Law of large numbers). \n",
    "<img src=\"geological_and_structural_domains.jpg\"  width=\"70%\">\n",
    "\n",
    "Nonetheless, newer empirical models are propsed based on machine learning, but this is a topic for another time...\n",
    "\n",
    "Let's see now what we can learn from the assumed design parameters and charging rules in terms of operational costs."
   ]
  },
  {
   "cell_type": "markdown",
   "id": "bab0ed0f",
   "metadata": {},
   "source": [
    "## Operational costs\n",
    "For this case study, the operational costs, which can be established accurately include:\n",
    "* Drilling costs\n",
    "* Blasting costs\n",
    "* Loading costs\n",
    "* Hauling costs\n",
    "\n",
    "Crushing, grinding and sieving costs are hard to determine as the relationship between the Mean fragment size, the X80 fragment size (the 80th percentile from the Rosin-Rammler distribution) and the energy required for crushing are not available for public use. Therefore this case study deals only with the mining side of the operational costs and does not implement mineral processing costs. Crushing costs are dependent on the blasted rock size fragments distribution. Usually, mining companies and consultant companies have their own private empirical models, based on field data. Such models are difficult to acquire, however, as a rule of thumb mining operations rely on ensuring no more than 5-10% oversize. Therefore mining costs should be minimized in order to facilitate blasting results with an oversize no larger than 5%. "
   ]
  },
  {
   "cell_type": "markdown",
   "id": "ca30fe71",
   "metadata": {},
   "source": [
    "### Drilling costs\n",
    "\n",
    "Drilling costs and the time required for drilling are estiamted via the basic formula:\n",
    "\n",
    "$C_{drilling} = \\frac{BP_{\\text{total d.h. length}} \\cdot c_{d}}{Q_{drill}}$, EUR\n",
    "\n",
    "$T_{drilling} = \\frac{BP_{\\text{total d.h. length}}}{Q_{\\text{drill}}}$, machine hours\n",
    "\n",
    "\n",
    "The following function calculates the costs and time required for drilling the blast panel according to the assumed drilling pattern."
   ]
  },
  {
   "cell_type": "code",
   "execution_count": 30,
   "id": "39e0b288",
   "metadata": {},
   "outputs": [],
   "source": [
    "def calc_drilling(bp_total_dh_length, drill_h_rate, drill_h_costs):\n",
    "    # Returns Drilling costs\n",
    "    # Връща разходите за пробивни работи\n",
    "    \n",
    "    costs = bp_total_dh_length * drill_h_costs / drill_h_rate / 1000\n",
    "    time = bp_total_dh_length / drill_h_rate\n",
    "    drilling_result_dict = {\"Costs\": costs, \"Time\": time}\n",
    "    \n",
    "    return drilling_result_dict"
   ]
  },
  {
   "cell_type": "markdown",
   "id": "eba272bc",
   "metadata": {},
   "source": [
    "Of course, here is an example of the results from the assumed blast panel and design parameters."
   ]
  },
  {
   "cell_type": "code",
   "execution_count": 31,
   "id": "1ad00a33",
   "metadata": {},
   "outputs": [
    {
     "name": "stdout",
     "output_type": "stream",
     "text": [
      "Drilling costs: 3.98 kEUR\n",
      "Drilling time needed: 39.96 machine hours\n"
     ]
    }
   ],
   "source": [
    "example_costs_drilling = calc_drilling(example_bp_total[\"Total DH length, m\"], drill_h_rate, drill_h_costs)\n",
    "\n",
    "print(f'Drilling costs: {example_costs_drilling[\"Costs\"]:.2f} kEUR')\n",
    "print(f'Drilling time needed: {example_costs_drilling[\"Time\"]:.2f} machine hours')"
   ]
  },
  {
   "cell_type": "markdown",
   "id": "cde1720e",
   "metadata": {},
   "source": [
    "### Blasting costs\n",
    "The blasting costs are calculated via the following formulae:\n",
    "\n",
    "$C_{blasting} = BP_{\\text{total expl. mass}} \\cdot c_{expl.}$, EUR"
   ]
  },
  {
   "cell_type": "code",
   "execution_count": 32,
   "id": "99612806",
   "metadata": {},
   "outputs": [],
   "source": [
    "def calc_blasting(bp_total_exp_mass, expl_price):\n",
    "    # Returns Blasting costs\n",
    "    # Връща разходите за взривяване\n",
    "    \n",
    "    costs = bp_total_exp_mass * expl_price / 1000\n",
    "    blasting_result_dict = {\"Costs\": costs, \"Time\": \"Not included in project\"}\n",
    "    \n",
    "    return blasting_result_dict"
   ]
  },
  {
   "cell_type": "markdown",
   "id": "bad7ddf3",
   "metadata": {},
   "source": [
    "An here is an example what result to expect in this case study."
   ]
  },
  {
   "cell_type": "code",
   "execution_count": 33,
   "id": "d5c18139",
   "metadata": {},
   "outputs": [
    {
     "name": "stdout",
     "output_type": "stream",
     "text": [
      "Blastinging costs: 52.13 kEUR\n",
      "Blastinging time: Not included in project\n"
     ]
    }
   ],
   "source": [
    "example_costs_blasting = calc_blasting(example_bp_total[\"Total explosive mass, kg\"], expl_price)\n",
    "\n",
    "print(f'Blastinging costs: {example_costs_blasting[\"Costs\"]:.2f} kEUR')\n",
    "print(f'Blastinging time: {example_costs_blasting[\"Time\"]}')"
   ]
  },
  {
   "cell_type": "markdown",
   "id": "52d5ffd2",
   "metadata": {},
   "source": [
    "### Loading costs\n",
    "Loading costs depend mainly on three major factors - the excavator's producitivity, its hourly fuel consumption and the diesel price. The only factor, over which mining engineers have control is the excavator's productivity. It can be estimated via the formula:\n",
    "\n",
    "\n",
    "The bucket fill factor depends heavily on the post-blast fragmentation result. Therefore, it is one of the major components of the loading productivity and hence the loading costs. For the purpose of this case study we can use a modified version of the linear model proposed by Ozdemir and Kumral (2018), based on field measurements:\n",
    "\n",
    "$F(X_{50}) = -0.0022 \\cdot X_{50} + 0.8833$\n",
    "\n",
    "where $F(X_{50})$ is the Fill factor for the excavator's bucket.\n",
    "\n",
    "Here is how the formula is implemented as a Python function:"
   ]
  },
  {
   "cell_type": "code",
   "execution_count": 34,
   "id": "62cb0612",
   "metadata": {},
   "outputs": [],
   "source": [
    "def set_fill_factor(x50):\n",
    "    '''Returns loader bucket fill factor depening on Median rock fragment size (X50)\n",
    "    Връща коефициента на напълване на кофата на база на среден размер на скалните късове (X50) '''\n",
    "    \n",
    "    return -0.0022 * x50/10 + 0.8833"
   ]
  },
  {
   "cell_type": "markdown",
   "id": "66705cdc",
   "metadata": {},
   "source": [
    "As a example, let's see what result does the formula produce for our assumed values for the Mean fragment size."
   ]
  },
  {
   "cell_type": "code",
   "execution_count": 35,
   "id": "6ea85bf1",
   "metadata": {},
   "outputs": [
    {
     "name": "stdout",
     "output_type": "stream",
     "text": [
      "The excavator fill factor is expected to be: 0.83\n"
     ]
    }
   ],
   "source": [
    "example_fill_factor = set_fill_factor(example_x50)\n",
    "\n",
    "print(f\"The excavator fill factor is expected to be: {example_fill_factor:.2f}\")"
   ]
  },
  {
   "cell_type": "markdown",
   "id": "52d2aed8",
   "metadata": {},
   "source": [
    "The excavator's hourly productivity can be calculated via the follwoing basic formula:\n",
    "\n",
    "$Q_{excavator} = \\frac{3600 \\cdot F \\cdot E}{t_{\\text{exc. cycle}} \\cdot SF}$ , m³/h\n",
    "\n",
    "where $E$ is the excavator's bucket capacity, m³;\n",
    "\n",
    "$t_{\\text{exc. cycle}}$ is the excavator's cycle time, s;\n",
    "\n",
    "$SF$ is the swelling factor of the material"
   ]
  },
  {
   "cell_type": "code",
   "execution_count": 36,
   "id": "bdce67f5",
   "metadata": {},
   "outputs": [
    {
     "name": "stdout",
     "output_type": "stream",
     "text": [
      "The expected hourly material output for the excavator is: 1949.17 m³/h\n"
     ]
    }
   ],
   "source": [
    "example_loader_h_prod = 3600 / loader_s_cycle * example_fill_factor * loader_bucket_vol / rm_swell_factor\n",
    "\n",
    "print(f\"The expected hourly material output for the excavator is: {example_loader_h_prod:.2f} m³/h\")"
   ]
  },
  {
   "cell_type": "markdown",
   "id": "73c7dffe",
   "metadata": {},
   "source": [
    "The operational costs regarding the excavator and the time required for clearing the blasted panel are calculated via the following basic formulae:\n",
    "\n",
    "$C_{loading} = \\frac{BO_{vol} \\cdot c_{excavator}}{Q_{excavator}}$, EUR\n",
    "\n",
    "$T_{loading} = \\frac{BO_{vol}}{Q_{excavator}}$, machine hours"
   ]
  },
  {
   "cell_type": "code",
   "execution_count": 37,
   "id": "c5ebfd9e",
   "metadata": {},
   "outputs": [],
   "source": [
    "def calc_loading(bp_total_volume, loader_h_prod, loader_h_costs):\n",
    "    # Returns Loading costs\n",
    "    # Връща разходите за изкопно-товарни работи\n",
    "    \n",
    "    costs = bp_total_volume * loader_h_costs / loader_h_prod / 1000\n",
    "    time = bp_total_volume / loader_h_prod\n",
    "    loading_result_dict = {\"Costs\": costs, \"Time\": time}\n",
    "    \n",
    "    return loading_result_dict"
   ]
  },
  {
   "cell_type": "markdown",
   "id": "b338a6f6",
   "metadata": {},
   "source": [
    "Here is the result for the laoding costs, based on the considered example."
   ]
  },
  {
   "cell_type": "code",
   "execution_count": 38,
   "id": "3e96c578",
   "metadata": {},
   "outputs": [
    {
     "name": "stdout",
     "output_type": "stream",
     "text": [
      "Loading costs: 8.33 kEUR\n",
      "Loading time: 23.09 machine hours\n"
     ]
    }
   ],
   "source": [
    "example_costs_loading = calc_loading(example_bp_total[\"Total rock volume, m³\"], example_loader_h_prod, loader_h_costs)\n",
    "\n",
    "print(f'Loading costs: {example_costs_loading[\"Costs\"]:.2f} kEUR')\n",
    "print(f'Loading time: {example_costs_loading[\"Time\"]:.2f} machine hours')"
   ]
  },
  {
   "cell_type": "markdown",
   "id": "3dfce04f",
   "metadata": {},
   "source": [
    "### Hauling costs"
   ]
  },
  {
   "cell_type": "markdown",
   "id": "d155497b",
   "metadata": {},
   "source": [
    "Haulage costs depend on haul distances and therefore on the truck travel time. For this case study it was assumed that all trucks have to haul the material to one and the same unloading point (the crusher feed).\n",
    "\n",
    "In order to calculate what tonnage of rock mass each truck hauls, the following function is defined which sums up each sequential excavator bucket, until the truck is filled, so that the payload of the truck is not exceeded."
   ]
  },
  {
   "cell_type": "code",
   "execution_count": 39,
   "id": "e227d497",
   "metadata": {},
   "outputs": [],
   "source": [
    "def calc_truck_tr_t(loader_bucket_vol, rm_density, rm_swell_factor, loader_bucket_fill_factor, truck_cap_t):\n",
    "\n",
    "    truck_tr_t = 0\n",
    "\n",
    "    while True:\n",
    "        if truck_tr_t + loader_bucket_vol * rm_density / rm_swell_factor * loader_bucket_fill_factor <= truck_cap_t:\n",
    "            truck_tr_t += loader_bucket_vol * rm_density / rm_swell_factor * loader_bucket_fill_factor\n",
    "        else:\n",
    "            break\n",
    "\n",
    "    return truck_tr_t"
   ]
  },
  {
   "cell_type": "markdown",
   "id": "b08e131e",
   "metadata": {},
   "source": [
    "To calculate the truck hourly productivity, the following formula is used:\n",
    "\n",
    "$Q_{truck} = q_{t} \\cdot \\frac{60}{t_{truck}}$, t/h\n",
    "\n",
    "where $q_{t}$ is the actual transported tonnage of the truck, t;\n",
    "\n",
    "$t_{truck}$ is the truck travel time until it is started to be refilled, min\n",
    "\n",
    "Here you can see this implemented as a function, as well as the expected value for this case study."
   ]
  },
  {
   "cell_type": "code",
   "execution_count": 40,
   "id": "7d85aa4d",
   "metadata": {},
   "outputs": [
    {
     "name": "stdout",
     "output_type": "stream",
     "text": [
      "The expected hourly material output for each truck is: 1250.72 t/h\n"
     ]
    }
   ],
   "source": [
    "example_truck_tr_t = calc_truck_tr_t(loader_bucket_vol, rm_density, rm_swell_factor, example_fill_factor, truck_cap_t)\n",
    "example_truck_h_prod =  example_truck_tr_t * (60 / truck_min_haul)\n",
    "\n",
    "print(f\"The expected hourly material output for each truck is: {example_truck_h_prod:.2f} t/h\")"
   ]
  },
  {
   "cell_type": "markdown",
   "id": "8fcd69d4",
   "metadata": {},
   "source": [
    "Haul costs and Haul time are calculated by the following basic formulae:\n",
    "\n",
    "$C_{hauling} = \\frac{BP_{vol} \\cdot \\rho_{r} \\cdot c_{truck}}{Q_{truck}}$, EUR\n",
    "\n",
    "$T_{hauling} = \\frac{BP_{vol} \\cdot \\rho_{r}}{Q_{truck}}$, machine hours"
   ]
  },
  {
   "cell_type": "code",
   "execution_count": 41,
   "id": "564727ca",
   "metadata": {},
   "outputs": [],
   "source": [
    "def calc_hauling(bp_total_volume, truck_h_prod, truck_h_costs, rm_density):\n",
    "    # Returns Hauling costs\n",
    "    # Връща разходите за транспортиране\n",
    "    \n",
    "    costs = bp_total_volume * rm_density * truck_h_costs / truck_h_prod / 1000\n",
    "    time = bp_total_volume * rm_density / truck_h_prod\n",
    "    hauling_result_dict = {\"Costs\": costs, \"Time\": time}\n",
    "    \n",
    "    return hauling_result_dict"
   ]
  },
  {
   "cell_type": "code",
   "execution_count": 42,
   "id": "6092fd4b",
   "metadata": {},
   "outputs": [
    {
     "name": "stdout",
     "output_type": "stream",
     "text": [
      "Hauling costs: 49.36 kEUR\n",
      "Hauling time: 98.96 machine hours\n"
     ]
    }
   ],
   "source": [
    "example_costs_hauling = calc_hauling(example_bp_total[\"Total rock volume, m³\"], example_truck_h_prod, truck_h_costs, rm_density)\n",
    "\n",
    "print(f'Hauling costs: {example_costs_hauling[\"Costs\"]:.2f} kEUR')\n",
    "print(f'Hauling time: {example_costs_hauling[\"Time\"]:.2f} machine hours')"
   ]
  },
  {
   "cell_type": "markdown",
   "id": "401288dd",
   "metadata": {},
   "source": [
    "For this case study 5 trucks would be enough for the current ecavator, but this is not the main topic. Let's see what the Total costs structure can tell us."
   ]
  },
  {
   "cell_type": "markdown",
   "id": "67debb6a",
   "metadata": {},
   "source": [
    "### Total mining costs\n",
    "In order to analys the total mining costs, a suitable way of visual representation of the obtained results is via the Pareto diagram. It is a type of chart used for prioritizing and identifying the most significant factors, which contribute to a certain additive result, usually costs or profits. It is named after the Italian statistician and economist, Vilfredo Pareto, who defined the famouse \"80/20 rule\". It states that roughly 80% of the obtained results come from only 20% of the causes. Hence, a small number of factors lead to the majority of outcomes. \n",
    "\n",
    "To apply the principle, all factors contributing to a certain cause must be ranked in descending order and are presented as a bar chart. Additionally, the cumulative percentage of all factors are added up to 100%, which is also ploted over the bar chart. Therefore, the combined chart (the Pareto diagram) helps visualize this principle and provides an easy to interpret graph for estimating the top causes. Here is how it can be done in Python:"
   ]
  },
  {
   "cell_type": "code",
   "execution_count": 43,
   "id": "2b8ca0b2",
   "metadata": {},
   "outputs": [],
   "source": [
    "def pareto_chart(total_costs_dict):\n",
    "\n",
    "    sorted_total_costs = dict(sorted(total_costs_dict.items(), key=lambda x: x[1], reverse=True))\n",
    "\n",
    "    cumulative_counts = []\n",
    "    cumulative_sum = 0\n",
    "    for count in sorted_total_costs.values():\n",
    "        cumulative_sum += count\n",
    "        cumulative_counts.append(cumulative_sum)\n",
    "\n",
    "    total = sum(sorted_total_costs.values())\n",
    "    cumulative_percentage = [(count / total) * 100 for count in cumulative_counts]\n",
    "    \n",
    "    fig, ax = plt.subplots()\n",
    "\n",
    "    ax.bar(range(len(sorted_total_costs)), sorted_total_costs.values(), align='center')\n",
    "    plt.xticks(range(len(sorted_total_costs)), sorted_total_costs.keys())\n",
    "    \n",
    "    ax2 = ax.twinx()\n",
    "    \n",
    "    ax2.plot(range(len(sorted_total_costs)), cumulative_percentage, color='r', marker='o')\n",
    "    ax2.set_ylim([0, 102])\n",
    "\n",
    "    ax.set_xlabel('Types of mining costs')\n",
    "    ax.set_ylabel('Operational costs, kEUR')\n",
    "    ax2.set_ylabel(\"Cumulative Percentage, %\")\n",
    "    plt.title('Pareto Chart for mining cost')\n",
    "\n",
    "    plt.show()"
   ]
  },
  {
   "cell_type": "markdown",
   "id": "7eef8e9c",
   "metadata": {},
   "source": [
    "Finally, the total mining costs for this operation are calculated via the formula:\n",
    "\n",
    "$C_{mining} = C_{drilling} + C_{blasting} + C_{loading} + C_{hauling}$, EUR"
   ]
  },
  {
   "cell_type": "markdown",
   "id": "f7c16ea3",
   "metadata": {},
   "source": [
    "And now for a visual example of all the mining costs for our case study."
   ]
  },
  {
   "cell_type": "code",
   "execution_count": 44,
   "id": "f2f79736",
   "metadata": {},
   "outputs": [
    {
     "data": {
      "image/png": "[encoded data removed]",
      "text/plain": [
       "<Figure size 640x480 with 2 Axes>"
      ]
     },
     "metadata": {},
     "output_type": "display_data"
    },
    {
     "name": "stdout",
     "output_type": "stream",
     "text": [
      "The total mining costs sum up to: 113.80 kEUR\n"
     ]
    }
   ],
   "source": [
    "example_total_costs = {\"Drilling\": example_costs_drilling[\"Costs\"], \n",
    "                       \"Blasting\": example_costs_blasting[\"Costs\"], \n",
    "                       \"Loading\": example_costs_loading[\"Costs\"], \n",
    "                       \"Hauling\": example_costs_hauling[\"Costs\"]}\n",
    "\n",
    "pareto_chart(example_total_costs)\n",
    "print(f\"The total mining costs sum up to: {sum(example_total_costs.values()):.2f} kEUR\")"
   ]
  },
  {
   "cell_type": "markdown",
   "id": "414c4e01",
   "metadata": {},
   "source": [
    "As one can see, Blasting costs are the predominant mining costs, followed by Hauling costs. They sum up to over 80%, which means that if mining engineers want to improve the efficiency of the mining operation, they should seek out ways to improve their chocie of blast design and hauling technology, as well as haul equipment of method. In addition, when we are living in a modern world, data acquisition and accountability of key performance indicators is essential for reducing costs even more."
   ]
  },
  {
   "cell_type": "markdown",
   "id": "d9757aa9",
   "metadata": {},
   "source": [
    "## Conclusion\n",
    "To sum up, in this notebook we take a brief overview of how blasting is performed in a mining operation, as well as  how mining costs are calculated. Furthermore, we examined which operatiosn are more essential for the total mining costs and concluded that blast design and blasting technology, as well as hauling are essential for optimizing mining costs. This will be further examined in another notebook: *Vol. 2 - Open-pit blasting - Design optimization*.\n",
    "\n",
    "Thank you for your attention! Don't forget to read the next part!"
   ]
  }
 ],
 "metadata": {
  "kernelspec": {
   "display_name": "Python 3 (ipykernel)",
   "language": "python",
   "name": "python3"
  },
  "language_info": {
   "codemirror_mode": {
    "name": "ipython",
    "version": 3
   },
   "file_extension": ".py",
   "mimetype": "text/x-python",
   "name": "python",
   "nbconvert_exporter": "python",
   "pygments_lexer": "ipython3",
   "version": "3.9.13"
  }
 },
 "nbformat": 4,
 "nbformat_minor": 5
}
